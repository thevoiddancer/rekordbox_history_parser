{
 "cells": [
  {
   "cell_type": "code",
   "execution_count": 2,
   "id": "beb0071b",
   "metadata": {},
   "outputs": [],
   "source": [
    "from rekordbox_history_parser.helpers import (\n",
    "    history_to_dict,\n",
    "    trim_playlist,\n",
    "    playlist_to_string,\n",
    "    renumerate_playlist,\n",
    "    write_to_text,\n",
    "    new_name,\n",
    "    write_to_csv,\n",
    "    detect_encoding,\n",
    "    recording_to_dict,\n",
    "    factory_parser,\n",
    "    factory_outputter\n",
    ")\n"
   ]
  },
  {
   "cell_type": "code",
   "execution_count": 6,
   "id": "aab1e442",
   "metadata": {},
   "outputs": [],
   "source": [
    "file_name_history = '../data/history.txt'\n",
    "columns = ['order', 'artist', 'title']\n",
    "\n",
    "playlist = history_to_dict(file_name_history)\n",
    "playlist = trim_playlist(playlist, columns)\n",
    "playlist = renumerate_playlist(playlist, columns)\n",
    "\n",
    "# write_to_text(file_name_history, playlist)\n",
    "write_to_csv(file_name_history, playlist, columns)\n"
   ]
  },
  {
   "cell_type": "code",
   "execution_count": 2,
   "id": "c9d5d5f5",
   "metadata": {},
   "outputs": [
    {
     "data": {
      "text/plain": [
       "[{'timestamp': '00:00:00', 'artist': \"L'AME IMMORTELLE\", 'title': '5 Jahre'},\n",
       " {'timestamp': '00:00:02', 'artist': 'Incirrina', 'title': 'The Tyger'},\n",
       " {'timestamp': '00:00:29',\n",
       "  'artist': 'Lyric Noel',\n",
       "  'title': 'Cry Little Sister'},\n",
       " {'timestamp': '00:08:24',\n",
       "  'artist': 'Sanguis Et Cinis',\n",
       "  'title': 'Immaculata'},\n",
       " {'timestamp': '00:13:28', 'artist': 'Genitorturers', 'title': 'Touch Myself'},\n",
       " {'timestamp': '00:16:28', 'artist': 'Black Angel', 'title': 'Kiss Of Death'},\n",
       " {'timestamp': '00:20:39', 'artist': 'Light Asylum', 'title': 'Dark Allies'},\n",
       " {'timestamp': '00:25:26', 'artist': 'Occults', 'title': 'Depeche Mode'},\n",
       " {'timestamp': '00:29:44',\n",
       "  'artist': 'Powerman 5000',\n",
       "  'title': 'Black Lipstick'},\n",
       " {'timestamp': '00:32:56', 'artist': 'Diary of Dreams', 'title': 'Ex-ile'},\n",
       " {'timestamp': '00:37:50', 'artist': 'Bella Morte', 'title': 'Fall No More'}]"
      ]
     },
     "execution_count": 2,
     "metadata": {},
     "output_type": "execute_result"
    }
   ],
   "source": [
    "file_name_recording = '../data/recording.cue'\n",
    "columns = ['timestamp', 'artist', 'title']\n",
    "\n",
    "playlist = recording_to_dict(file_name_recording)\n",
    "playlist = trim_playlist(playlist, columns)\n",
    "playlist = renumerate_playlist(playlist, columns)\n",
    "playlist\n",
    "# write_to_text(file_name_recording, playlist)\n",
    "# write_to_csv(file_name_recording, columns, playlist)\n"
   ]
  },
  {
   "cell_type": "markdown",
   "id": "f02c9e1c",
   "metadata": {},
   "source": [
    "### Final CLI Integration (with argparse)"
   ]
  },
  {
   "cell_type": "code",
   "execution_count": null,
   "id": "69fe1040",
   "metadata": {},
   "outputs": [],
   "source": [
    "import argparse\n",
    "\n",
    "def main():\n",
    "    parser = argparse.ArgumentParser(description=\"Parse playlist files.\")\n",
    "    parser.add_argument(\"filepath\", help=\"Path to input file\")\n",
    "    parser.add_argument(\"--type\", required=True, choices=[\"history\", \"recording\"], help=\"Input file type\")\n",
    "    parser.add_argument(\"--columns\", required=True, help=\"Comma-separated columns to keep\")\n",
    "    parser.add_argument(\"--output\", choices=[\"string\", \"csv\"], default=\"string\", help=\"Output format\")\n",
    "\n",
    "    args = parser.parse_args()\n",
    "    keys_to_keep = [col.strip() for col in args.columns.split(\",\")]\n",
    "\n",
    "    parser_func = factory_parser(args.type)\n",
    "    playlist = parser_func(args.filepath)\n",
    "    playlist = trim_playlist(playlist, keys_to_keep)\n",
    "    playlist = renumerate_playlist(playlist, keys_to_keep)\n",
    "\n",
    "    output_func = factory_outputter(args.output)\n",
    "    output_func(args.filepath, playlist, keys_to_keep)\n",
    "\n",
    "if __name__ == \"__main__\":\n",
    "    main()\n"
   ]
  }
 ],
 "metadata": {
  "kernelspec": {
   "display_name": "rekordbox",
   "language": "python",
   "name": "python3"
  },
  "language_info": {
   "codemirror_mode": {
    "name": "ipython",
    "version": 3
   },
   "file_extension": ".py",
   "mimetype": "text/x-python",
   "name": "python",
   "nbconvert_exporter": "python",
   "pygments_lexer": "ipython3",
   "version": "3.11.13"
  }
 },
 "nbformat": 4,
 "nbformat_minor": 5
}
