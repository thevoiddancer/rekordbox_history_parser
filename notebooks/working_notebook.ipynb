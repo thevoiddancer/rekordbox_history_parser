{
 "cells": [
  {
   "cell_type": "code",
   "execution_count": 8,
   "id": "beb0071b",
   "metadata": {},
   "outputs": [
    {
     "name": "stdout",
     "output_type": "stream",
     "text": [
      "1 - Deus Ex Lumina - Black Lipstick (Remastered)\n",
      "2 - Deus Ex Lumina - Black Lipstick (Remastered)\n",
      "3 - Stahlmann - Schwarz\n",
      "4 - Zeraphine - Die Wirklichkeit\n",
      "5 - Blutengel - Black\n",
      "6 - Corlyx, Massive Ego - Raindrops\n",
      "7 - Klangstabil - Math & Emotion - The Square Root of One\n",
      "8 - L'AME IMMORTELLE - 5 Jahre\n",
      "9 - Incirrina - The Tyger\n",
      "10 - Lyric Noel - Cry Little Sister\n",
      "11 - Sanguis Et Cinis - Immaculata\n",
      "12 - Genitorturers - Touch Myself\n",
      "13 - Black Angel - Kiss Of Death\n",
      "14 - Light Asylum - Dark Allies\n",
      "15 - Occults - Depeche Mode\n",
      "16 - Powerman 5000 - Black Lipstick\n",
      "17 - Diary of Dreams - Ex-ile\n",
      "18 - Bella Morte - Fall No More\n",
      "19 - Bella Morte - Fall No More\n",
      "20 - Nachtmahr - I Hate Berlin (feat. Frl. Plastique)\n",
      "21 - Night in Athens - Words Unspoken\n",
      "22 - Minuit Machine - Lion In A Cage\n",
      "23 - Rosetta Stone - Adrenaline\n",
      "24 - ASP - Ich Will Brennen\n",
      "25 - Spetsnaz - That Perfect Body\n",
      "26 - Grendel - Chemicals + Circuitry (V.2012)\n",
      "27 - Muscles On The Move - Schön\n",
      "28 - Local Suicide, Skelesys - Faster Faster\n",
      "29 - The Sisters of Mercy - Dominion-Mother Russia\n",
      "30 - Paralysed Age - Bloodsucker 2000\n",
      "31 - Nosferatu - The Night Is Young\n",
      "32 - Buzz Kull - Last In The Club (Album Version)\n"
     ]
    }
   ],
   "source": [
    "from rekordbox_history_parser.helpers import history_to_dict, trim_data\n",
    "\n",
    "file_name_history = '../data/history.txt'\n",
    "data = history_to_dict(file_name_history)\n",
    "columns = ['order', 'artist', 'title']\n",
    "playlist = trim_data(data, columns)\n",
    "\n",
    "def playlist_to_string(playlist):\n",
    "    output_string = '\\n'.join([' - '.join(song.values()) for song in playlist])\n",
    "    return output_string\n",
    "\n",
    "print(playlist_to_string(playlist))"
   ]
  },
  {
   "cell_type": "code",
   "execution_count": 15,
   "id": "93b705b7",
   "metadata": {},
   "outputs": [
    {
     "data": {
      "text/plain": [
       "set()"
      ]
     },
     "execution_count": 15,
     "metadata": {},
     "output_type": "execute_result"
    }
   ],
   "source": [
    "set(columns[:-1]).difference(set(COLUMNS))"
   ]
  }
 ],
 "metadata": {
  "kernelspec": {
   "display_name": "rekordbox_hist",
   "language": "python",
   "name": "python3"
  },
  "language_info": {
   "codemirror_mode": {
    "name": "ipython",
    "version": 3
   },
   "file_extension": ".py",
   "mimetype": "text/x-python",
   "name": "python",
   "nbconvert_exporter": "python",
   "pygments_lexer": "ipython3",
   "version": "3.12.11"
  }
 },
 "nbformat": 4,
 "nbformat_minor": 5
}
