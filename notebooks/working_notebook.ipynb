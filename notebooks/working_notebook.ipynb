{
 "cells": [
  {
   "cell_type": "code",
   "execution_count": 1,
   "id": "beb0071b",
   "metadata": {},
   "outputs": [],
   "source": [
    "from rekordbox_history_parser.helpers import (\n",
    "    history_to_dict,\n",
    "    trim_playlist,\n",
    "    playlist_to_string,\n",
    "    renumerate_playlist,\n",
    "    write_to_text,\n",
    "    new_name,\n",
    "    write_to_csv,\n",
    "    detect_encoding,\n",
    "    recording_to_dict,\n",
    ")\n"
   ]
  },
  {
   "cell_type": "code",
   "execution_count": 2,
   "id": "aab1e442",
   "metadata": {},
   "outputs": [],
   "source": [
    "file_name_history = '../data/history.txt'\n",
    "columns = ['order', 'artist', 'title']\n",
    "\n",
    "playlist = history_to_dict(file_name_history)\n",
    "playlist = trim_playlist(playlist, columns)\n",
    "playlist = renumerate_playlist(playlist, columns)\n",
    "\n",
    "write_to_text(file_name_history, playlist)\n",
    "write_to_csv(file_name_history, columns, playlist)"
   ]
  },
  {
   "cell_type": "code",
   "execution_count": 4,
   "id": "c9d5d5f5",
   "metadata": {},
   "outputs": [],
   "source": [
    "file_name_recording = '../data/recording.cue'\n",
    "columns = ['timestamp', 'artist', 'title']\n",
    "\n",
    "playlist = recording_to_dict(file_name_recording)\n",
    "playlist = trim_playlist(playlist, columns)\n",
    "playlist = renumerate_playlist(playlist, columns)\n",
    "\n",
    "write_to_text(file_name_recording, playlist)\n",
    "write_to_csv(file_name_recording, columns, playlist)"
   ]
  },
  {
   "cell_type": "markdown",
   "id": "36ffc97c",
   "metadata": {},
   "source": [
    "### Factory Pattern: Choose the Parser"
   ]
  },
  {
   "cell_type": "code",
   "execution_count": null,
   "id": "93b705b7",
   "metadata": {},
   "outputs": [
    {
     "data": {
      "text/plain": [
       "'01'"
      ]
     },
     "execution_count": 6,
     "metadata": {},
     "output_type": "execute_result"
    }
   ],
   "source": [
    "# class ParserFactory:\n",
    "#     @staticmethod\n",
    "#     def get_parser(data_type: str):\n",
    "#         if data_type == \"history\":\n",
    "#             return history_to_dict\n",
    "#         elif data_type == \"recording\":\n",
    "#             return recording_to_dict\n",
    "#         else:\n",
    "#             raise ValueError(f\"Unknown type: {data_type}\")"
   ]
  },
  {
   "cell_type": "markdown",
   "id": "ed846995",
   "metadata": {},
   "source": [
    "### Strategy Pattern: Choose the Output Format"
   ]
  },
  {
   "cell_type": "code",
   "execution_count": null,
   "id": "47de7c75",
   "metadata": {},
   "outputs": [],
   "source": [
    "# class OutputStrategy:\n",
    "#     def format(self, playlist: list[dict[str, str]]) -> str:\n",
    "#         raise NotImplementedError\n",
    "\n",
    "# class StringOutput(OutputStrategy):\n",
    "#     def format(self, playlist):\n",
    "#         return playlist_to_string(playlist)\n",
    "\n",
    "# class CSVOutput(OutputStrategy):\n",
    "#     def format(self, playlist):\n",
    "#         import io\n",
    "#         import csv\n",
    "#         output = io.StringIO()\n",
    "#         writer = csv.DictWriter(output, fieldnames=playlist[0].keys())\n",
    "#         writer.writeheader()\n",
    "#         writer.writerows(playlist)\n",
    "#         return output.getvalue()\n"
   ]
  },
  {
   "cell_type": "markdown",
   "id": "f02c9e1c",
   "metadata": {},
   "source": [
    "### Final CLI Integration (with argparse)"
   ]
  },
  {
   "cell_type": "code",
   "execution_count": null,
   "id": "69fe1040",
   "metadata": {},
   "outputs": [],
   "source": [
    "# import argparse\n",
    "# from your_module import history_to_dict, recording_to_dict, trim_data, playlist_to_string\n",
    "\n",
    "# # Factory Pattern\n",
    "# class ParserFactory:\n",
    "#     @staticmethod\n",
    "#     def get_parser(data_type: str):\n",
    "#         if data_type == \"history\":\n",
    "#             return history_to_dict\n",
    "#         elif data_type == \"recording\":\n",
    "#             return recording_to_dict\n",
    "#         else:\n",
    "#             raise ValueError(f\"Unknown type: {data_type}\")\n",
    "\n",
    "# # Strategy Pattern\n",
    "# class OutputStrategy:\n",
    "#     def format(self, playlist): raise NotImplementedError\n",
    "\n",
    "# class StringOutput(OutputStrategy):\n",
    "#     def format(self, playlist): return playlist_to_string(playlist)\n",
    "\n",
    "# class CSVOutput(OutputStrategy):\n",
    "#     def format(self, playlist):\n",
    "#         import io, csv\n",
    "#         output = io.StringIO()\n",
    "#         writer = csv.DictWriter(output, fieldnames=playlist[0].keys())\n",
    "#         writer.writeheader()\n",
    "#         writer.writerows(playlist)\n",
    "#         return output.getvalue()\n",
    "\n",
    "# def main():\n",
    "#     parser = argparse.ArgumentParser(description=\"Parse playlist files.\")\n",
    "#     parser.add_argument(\"filepath\", help=\"Path to input file\")\n",
    "#     parser.add_argument(\"--type\", required=True, choices=[\"history\", \"recording\"], help=\"Input file type\")\n",
    "#     parser.add_argument(\"--columns\", required=True, help=\"Comma-separated columns to keep\")\n",
    "#     parser.add_argument(\"--output\", choices=[\"string\", \"csv\"], default=\"string\", help=\"Output format\")\n",
    "\n",
    "#     args = parser.parse_args()\n",
    "#     keys_to_keep = [col.strip() for col in args.columns.split(\",\")]\n",
    "\n",
    "#     # Use Factory to get parser function\n",
    "#     parser_func = ParserFactory.get_parser(args.type)\n",
    "#     playlist = parser_func(args.filepath)\n",
    "\n",
    "#     # Trim to needed columns\n",
    "#     trimmed = trim_data(playlist, keys_to_keep)\n",
    "\n",
    "#     # Use Strategy to format output\n",
    "#     strategy: OutputStrategy = StringOutput() if args.output == \"string\" else CSVOutput()\n",
    "#     result = strategy.format(trimmed)\n",
    "\n",
    "#     print(result)\n",
    "\n",
    "# if __name__ == \"__main__\":\n",
    "#     main()\n"
   ]
  }
 ],
 "metadata": {
  "kernelspec": {
   "display_name": "rekordbox_hist",
   "language": "python",
   "name": "python3"
  },
  "language_info": {
   "codemirror_mode": {
    "name": "ipython",
    "version": 3
   },
   "file_extension": ".py",
   "mimetype": "text/x-python",
   "name": "python",
   "nbconvert_exporter": "python",
   "pygments_lexer": "ipython3",
   "version": "3.12.11"
  }
 },
 "nbformat": 4,
 "nbformat_minor": 5
}
